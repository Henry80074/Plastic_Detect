{
 "cells": [
  {
   "cell_type": "code",
   "execution_count": 20,
   "id": "ccd6fe84",
   "metadata": {},
   "outputs": [],
   "source": [
    "import ee\n",
    "import geemap\n",
    "import logging\n",
    "import multiprocessing\n",
    "import os\n",
    "import requests\n",
    "import shutil\n",
    "from retry import retry"
   ]
  },
  {
   "cell_type": "code",
   "execution_count": 21,
   "id": "c0fa9232",
   "metadata": {},
   "outputs": [],
   "source": [
    "ee.Initialize(opt_url='https://earthengine.googleapis.com')"
   ]
  },
  {
   "cell_type": "code",
   "execution_count": 76,
   "id": "50bb9cb5",
   "metadata": {
    "scrolled": true
   },
   "outputs": [],
   "source": [
    "Map = geemap.Map()\n"
   ]
  },
  {
   "cell_type": "code",
   "execution_count": 77,
   "id": "d75bd31a",
   "metadata": {},
   "outputs": [],
   "source": [
    "StartDate= ee.Date(\"2021-01-01\")\n",
    "EndDate = ee.Date(\"2021-02-01\")"
   ]
  },
  {
   "cell_type": "code",
   "execution_count": 78,
   "id": "231e20b7",
   "metadata": {},
   "outputs": [],
   "source": [
    "region = ee.Geometry.Polygon([[-88.956, 17.073],[-86.243, 17.073], [-88.956, 15.671], [-86.243, 15.671]])\n",
    "region2 = ee.Geometry.Polygon([[-86.243, 17.073],[-88.956, 17.073], [-88.956, 15.671], [-86.243, 15.671]], None, False)"
   ]
  },
  {
   "cell_type": "code",
   "execution_count": 79,
   "id": "7db4ef9a",
   "metadata": {},
   "outputs": [],
   "source": [
    "# image = (ee.ImageCollection('COPERNICUS/S2_SR')\n",
    "#          .filterDate(StartDate, EndDate)\n",
    "#          .filterBounds(region2)\n",
    "#          .mosaic()\n",
    "#          .clip(region2)\n",
    "#          .select(['B1','B2','B3','B4','B5','B6','B7','B8','B8A','B11','B12']))"
   ]
  },
  {
   "cell_type": "code",
   "execution_count": 80,
   "id": "ee7012e8",
   "metadata": {},
   "outputs": [],
   "source": [
    "image = ee.ImageCollection('COPERNICUS/S2_SR') \\\n",
    "            .filterBounds(region2) \\\n",
    "            .filterDate(StartDate, EndDate) \\\n",
    "            .select('B4', 'B3', 'B2') \\\n",
    "            .median() \\\n",
    "            .visualize(min=0, max=1000).clip(region2)"
   ]
  },
  {
   "cell_type": "code",
   "execution_count": 81,
   "id": "0d730666",
   "metadata": {},
   "outputs": [],
   "source": [
    "params = {\n",
    "    'count': 1,  # How many image chips to export\n",
    "    'buffer': 127,  # The buffer distance (m) around each point\n",
    "    'scale': 10,  # The scale to do stratified sampling\n",
    "    'seed': 1,  # A randomization seed to use for subsampling.\n",
    "    'dimensions': '256x256',  # The dimension of each image chip\n",
    "    'format': \"GEO_TIFF\",  # The output image format, can be png, jpg, ZIPPED_GEO_TIFF, GEO_TIFF, NPY\n",
    "    'prefix': 'tile_',  # The filename prefix\n",
    "    'processes': 25,  # How many processes to used for parallel processing\n",
    "    'out_dir': './tiles/',  # The output directory. Default to the current working directly\n",
    "}\n",
    "# viz_params = {\n",
    "#   'bands': ['B8', 'B4', 'B3'], 'min':0, 'max': 4000, 'gamma': 1\n",
    "# }"
   ]
  },
  {
   "cell_type": "code",
   "execution_count": 85,
   "id": "49488757",
   "metadata": {
    "scrolled": false
   },
   "outputs": [
    {
     "data": {
      "application/vnd.jupyter.widget-view+json": {
       "model_id": "316ce0a246ae4ffaa37c700342200477",
       "version_major": 2,
       "version_minor": 0
      },
      "text/plain": [
       "Map(bottom=863.0, center=[17.073, -88.956], controls=(WidgetControl(options=['position', 'transparent_bg'], wi…"
      ]
     },
     "metadata": {},
     "output_type": "display_data"
    }
   ],
   "source": [
    "Map.addLayer(image.sampleRegions(collection=ee.FeatureCollection(region2), scale=5000, geometries=True), {}, \"points\")\n",
    "Map.addLayer(image, {}, \"Image\")\n",
    "Map.addLayer(region2, {}, \"ROI\", False)\n",
    "Map.setCenter(-88.956, 17.073)\n",
    "Map"
   ]
  },
  {
   "cell_type": "code",
   "execution_count": null,
   "id": "b19cc521",
   "metadata": {},
   "outputs": [],
   "source": [
    "def getRequests():\n",
    "    img = ee.Image(1).rename(\"Class\").addBands(image)\n",
    "    points = img.stratifiedSample(\n",
    "        numPoints=params['count'],\n",
    "        region=region2,\n",
    "        scale=params['scale'],\n",
    "        seed=params['seed'],\n",
    "        geometries=True,\n",
    "    )\n",
    "    Map.data = points\n",
    "    return points.aggregate_array('.geo').getInfo()"
   ]
  },
  {
   "cell_type": "code",
   "execution_count": null,
   "id": "2e4f4829",
   "metadata": {},
   "outputs": [],
   "source": [
    "@retry(tries=10, delay=1, backoff=2)\n",
    "def getResult(index, point):\n",
    "    print(\"running1..\")\n",
    "    point = ee.Geometry.Point(point)\n",
    "    region = point.buffer(params['buffer']).bounds()\n",
    "    print(\"running2..\")\n",
    "    if params['format'] in ['png', 'jpg']:\n",
    "        url = image.getThumbURL(\n",
    "            {\n",
    "                'region': region,\n",
    "                'dimensions': params['dimensions'],\n",
    "                'format': params['format'],\n",
    "            }\n",
    "        )\n",
    "    else:\n",
    "        url = image.getDownloadURL(\n",
    "            {\n",
    "                'region': region,\n",
    "                'dimensions': params['dimensions'],\n",
    "                'format': params['format'],\n",
    "            }\n",
    "        )\n",
    "\n",
    "    if params['format'] == \"GEO_TIFF\":\n",
    "        ext = 'tif'\n",
    "    else:\n",
    "        ext = params['format']\n",
    "\n",
    "    r = requests.get(url, stream=True)\n",
    "    if r.status_code != 200:\n",
    "        r.raise_for_status()\n",
    "\n",
    "    out_dir = os.path.abspath(params['out_dir'])\n",
    "    basename = str(index).zfill(len(str(params['count'])))\n",
    "    filename = f\"{out_dir}{params['prefix']}{basename}.{ext}\"\n",
    "    with open(filename, 'wb') as out_file:\n",
    "        shutil.copyfileobj(r.raw, out_file)\n",
    "    print(\"Done: \", basename)"
   ]
  },
  {
   "cell_type": "code",
   "execution_count": null,
   "id": "570b973b",
   "metadata": {},
   "outputs": [],
   "source": [
    "items = getRequests()\n",
    "print(items)\n",
    "num = 0\n",
    "for i in items:\n",
    "    index = num\n",
    "    num+= 1\n",
    "    point = i.get('coordinates')\n",
    "    print(point)\n",
    "    getResult(index, point)"
   ]
  },
  {
   "cell_type": "code",
   "execution_count": 12,
   "id": "5e4214e7",
   "metadata": {},
   "outputs": [
    {
     "data": {
      "application/vnd.jupyter.widget-view+json": {
       "model_id": "3c35e509350e44dfb9dda0f0fa9259b4",
       "version_major": 2,
       "version_minor": 0
      },
      "text/plain": [
       "Map(center=[17.073, -88.956], controls=(WidgetControl(options=['position', 'transparent_bg'], widget=HBox(chil…"
      ]
     },
     "metadata": {},
     "output_type": "display_data"
    }
   ],
   "source": [
    "Map.addLayer(Map.data, {}, \"Sample points\")\n",
    "Map"
   ]
  },
  {
   "cell_type": "code",
   "execution_count": null,
   "id": "c2ed12a2",
   "metadata": {},
   "outputs": [],
   "source": []
  },
  {
   "cell_type": "code",
   "execution_count": null,
   "id": "e9885fcf",
   "metadata": {},
   "outputs": [],
   "source": []
  }
 ],
 "metadata": {
  "kernelspec": {
   "display_name": "Python 3 (ipykernel)",
   "language": "python",
   "name": "python3"
  },
  "language_info": {
   "codemirror_mode": {
    "name": "ipython",
    "version": 3
   },
   "file_extension": ".py",
   "mimetype": "text/x-python",
   "name": "python",
   "nbconvert_exporter": "python",
   "pygments_lexer": "ipython3",
   "version": "3.10.4"
  }
 },
 "nbformat": 4,
 "nbformat_minor": 5
}
